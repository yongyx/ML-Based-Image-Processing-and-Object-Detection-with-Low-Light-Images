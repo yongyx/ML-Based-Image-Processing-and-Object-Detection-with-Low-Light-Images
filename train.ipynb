{
 "cells": [
  {
   "cell_type": "code",
   "execution_count": 1,
   "metadata": {},
   "outputs": [],
   "source": [
    "import os\n",
    "import torch \n",
    "import torch.nn as nn\n",
    "import torch.nn.functional as f\n",
    "\n",
    "import numpy as np\n",
    "import pandas as pd\n",
    "import glob\n",
    "import cv2\n",
    "import matplotlib.pyplot as plt \n",
    "import torchvision.transforms as T\n",
    "import tqdm\n",
    "from torch.utils.data import DataLoader, sampler, random_split\n",
    "from custom_dataset import CustomDataset\n",
    "from models.ImgEnhanceNet import ImgEnhanceNet\n",
    "\n",
    "import warnings\n",
    "warnings.filterwarnings(\"ignore\")\n",
    "\n",
    "%load_ext autoreload\n",
    "%autoreload 2"
   ]
  },
  {
   "cell_type": "code",
   "execution_count": 2,
   "metadata": {},
   "outputs": [],
   "source": [
    "os.chdir(\"./ExDark\")"
   ]
  },
  {
   "cell_type": "code",
   "execution_count": 3,
   "metadata": {},
   "outputs": [
    {
     "data": {
      "text/plain": [
       "'/Users/yongyx/Documents/GRADUATE_CLASSES/ECE 228/Exclusively-Dark-Image-Project/ExDark'"
      ]
     },
     "execution_count": 3,
     "metadata": {},
     "output_type": "execute_result"
    }
   ],
   "source": [
    "os.getcwd()"
   ]
  },
  {
   "cell_type": "code",
   "execution_count": 4,
   "metadata": {},
   "outputs": [
    {
     "name": "stdout",
     "output_type": "stream",
     "text": [
      "cpu\n"
     ]
    }
   ],
   "source": [
    "device = 'cuda' if torch.cuda.is_available() else 'cpu'\n",
    "print(device)"
   ]
  },
  {
   "cell_type": "markdown",
   "metadata": {},
   "source": [
    "## DataLoader"
   ]
  },
  {
   "cell_type": "markdown",
   "metadata": {},
   "source": [
    "We use the dataloader to load the train, validation and test sets."
   ]
  },
  {
   "cell_type": "code",
   "execution_count": 8,
   "metadata": {},
   "outputs": [],
   "source": [
    "NUM_TRAIN = 3000\n",
    "NUM_VAL = 1800\n",
    "NUM_TEST = 2563\n",
    "BATCH_SIZE = 16\n",
    "\n",
    "img_transform = T.Compose([ T.ToPILImage(),\n",
    "                            T.RandomCrop((48,48)),\n",
    "                            T.ToTensor()])\n",
    "exDark = CustomDataset(os.getcwd(), transform=img_transform)\n",
    "exDark_train, exDark_val, exDark_test = random_split(exDark, [NUM_TRAIN, NUM_VAL, NUM_TEST])\n",
    "\n",
    "train_loader = DataLoader(exDark_train, batch_size=1, num_workers=0,\n",
    "                         sampler=sampler.SubsetRandomSampler(range(NUM_TRAIN)))\n",
    "val_loader = DataLoader(exDark_val, batch_size=BATCH_SIZE, num_workers=0,\n",
    "                         sampler=sampler.SubsetRandomSampler(range(NUM_VAL)))\n",
    "test_loader = DataLoader(exDark_test, batch_size=BATCH_SIZE, num_workers=0,\n",
    "                         sampler=sampler.SubsetRandomSampler(range(NUM_TEST)))                       "
   ]
  },
  {
   "cell_type": "markdown",
   "metadata": {},
   "source": [
    "## Training\n"
   ]
  },
  {
   "cell_type": "code",
   "execution_count": 12,
   "metadata": {},
   "outputs": [],
   "source": [
    "# for i, (img, class_) in enumerate(train_loader):\n",
    "#     print(img.shape)\n",
    "#     # plt.imshow(img[0,:].permute(1,2,0).detach().numpy())\n",
    "#     plt.imshow(img[0,:].permute(1,2,0))\n",
    "#     plt.show()"
   ]
  },
  {
   "cell_type": "code",
   "execution_count": 13,
   "metadata": {},
   "outputs": [
    {
     "name": "stderr",
     "output_type": "stream",
     "text": [
      "libpng warning: iCCP: known incorrect sRGB profile\n",
      "libpng warning: iCCP: known incorrect sRGB profile\n",
      "libpng warning: iCCP: known incorrect sRGB profile\n",
      "libpng warning: iCCP: known incorrect sRGB profile\n",
      "libpng warning: iCCP: known incorrect sRGB profile\n",
      "libpng warning: iCCP: known incorrect sRGB profile\n",
      "libpng warning: iCCP: known incorrect sRGB profile\n",
      "libpng warning: iCCP: known incorrect sRGB profile\n",
      "libpng warning: iCCP: known incorrect sRGB profile\n",
      "libpng warning: iCCP: known incorrect sRGB profile\n",
      "libpng warning: iCCP: known incorrect sRGB profile\n",
      "libpng warning: iCCP: known incorrect sRGB profile\n",
      "libpng warning: iCCP: known incorrect sRGB profile\n",
      "libpng warning: iCCP: known incorrect sRGB profile\n",
      "libpng warning: iCCP: known incorrect sRGB profile\n",
      "libpng warning: iCCP: known incorrect sRGB profile\n"
     ]
    }
   ],
   "source": [
    "model = ImgEnhanceNet()\n",
    "model = model.to(device=device)\n",
    "for e in range(10):\n",
    "    for i, (img, class_) in enumerate(train_loader):\n",
    "        model.train()\n",
    "        x =  img.to(device=device, dtype = torch.float32)\n",
    "        R,L = model(x)\n",
    "        # image = R*torch.cat((L,L,L), axis=1)\n",
    "        # plt.imshow(cv2.cvtColor(image[0,].permute(1,2,0).detach().numpy(), cv2.COLOR_BGR2RGB))\n",
    "        # plt.show()\n",
    "print(\"done\")"
   ]
  },
  {
   "cell_type": "code",
   "execution_count": 45,
   "metadata": {},
   "outputs": [
    {
     "data": {
      "text/plain": [
       "<matplotlib.image.AxesImage at 0x2b224a5e0>"
      ]
     },
     "execution_count": 45,
     "metadata": {},
     "output_type": "execute_result"
    },
    {
     "data": {
      "image/png": "[encoded data removed]",
      "text/plain": [
       "<Figure size 432x288 with 1 Axes>"
      ]
     },
     "metadata": {
      "needs_background": "light"
     },
     "output_type": "display_data"
    }
   ],
   "source": []
  },
  {
   "cell_type": "code",
   "execution_count": null,
   "metadata": {},
   "outputs": [],
   "source": []
  }
 ],
 "metadata": {
  "interpreter": {
   "hash": "6ee6379af7dc41f1eb11390d19b862c8a3a5b9f40a1198d2a4e88f824a5d4c2b"
  },
  "kernelspec": {
   "display_name": "Python 3.9.12",
   "language": "python",
   "name": "python3"
  },
  "language_info": {
   "codemirror_mode": {
    "name": "ipython",
    "version": 3
   },
   "file_extension": ".py",
   "mimetype": "text/x-python",
   "name": "python",
   "nbconvert_exporter": "python",
   "pygments_lexer": "ipython3",
   "version": "3.9.12"
  },
  "orig_nbformat": 4
 },
 "nbformat": 4,
 "nbformat_minor": 2
}
