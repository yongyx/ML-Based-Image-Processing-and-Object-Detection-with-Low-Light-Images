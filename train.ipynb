{
 "cells": [
  {
   "cell_type": "code",
   "execution_count": 29,
   "metadata": {},
   "outputs": [
    {
     "ename": "ImportError",
     "evalue": "cannot import name 'ToPILImage' from 'torchvision.transforms.functional' (/home/x0yong/.local/lib/python3.7/site-packages/torchvision/transforms/functional.py)",
     "output_type": "error",
     "traceback": [
      "\u001b[0;31m---------------------------------------------------------------------------\u001b[0m",
      "\u001b[0;31mImportError\u001b[0m                               Traceback (most recent call last)",
      "\u001b[0;32m<ipython-input-29-3cf12f2031d9>\u001b[0m in \u001b[0;36m<module>\u001b[0;34m\u001b[0m\n\u001b[1;32m     16\u001b[0m \u001b[0;32mfrom\u001b[0m \u001b[0mloss_functions\u001b[0m \u001b[0;32mimport\u001b[0m \u001b[0mICE_loss\u001b[0m\u001b[0;34m\u001b[0m\u001b[0;34m\u001b[0m\u001b[0m\n\u001b[1;32m     17\u001b[0m \u001b[0;32mfrom\u001b[0m \u001b[0mmodels\u001b[0m\u001b[0;34m.\u001b[0m\u001b[0mImgEnhanceNet\u001b[0m \u001b[0;32mimport\u001b[0m \u001b[0mImgEnhanceNet\u001b[0m\u001b[0;34m\u001b[0m\u001b[0;34m\u001b[0m\u001b[0m\n\u001b[0;32m---> 18\u001b[0;31m \u001b[0;32mfrom\u001b[0m \u001b[0mtorchvision\u001b[0m\u001b[0;34m.\u001b[0m\u001b[0mtransforms\u001b[0m\u001b[0;34m.\u001b[0m\u001b[0mfunctional\u001b[0m \u001b[0;32mimport\u001b[0m \u001b[0mrgb_to_grayscale\u001b[0m\u001b[0;34m,\u001b[0m \u001b[0mToPILImage\u001b[0m\u001b[0;34m\u001b[0m\u001b[0;34m\u001b[0m\u001b[0m\n\u001b[0m\u001b[1;32m     19\u001b[0m \u001b[0;34m\u001b[0m\u001b[0m\n\u001b[1;32m     20\u001b[0m \u001b[0;32mimport\u001b[0m \u001b[0mwarnings\u001b[0m\u001b[0;34m\u001b[0m\u001b[0;34m\u001b[0m\u001b[0m\n",
      "\u001b[0;31mImportError\u001b[0m: cannot import name 'ToPILImage' from 'torchvision.transforms.functional' (/home/x0yong/.local/lib/python3.7/site-packages/torchvision/transforms/functional.py)"
     ]
    }
   ],
   "source": [
    "import os\n",
    "import torch \n",
    "import torch.nn as nn\n",
    "import torch.optim as optim\n",
    "import torch.nn.functional as f\n",
    "\n",
    "import numpy as np\n",
    "import pandas as pd\n",
    "import glob\n",
    "import cv2\n",
    "import matplotlib.pyplot as plt \n",
    "import torchvision.transforms as T\n",
    "import tqdm\n",
    "from torch.utils.data import DataLoader, sampler, random_split\n",
    "from dataLoader import BatchLoader\n",
    "from loss_functions import ICE_loss\n",
    "from models.ImgEnhanceNet import ImgEnhanceNet\n",
    "\n",
    "import warnings\n",
    "warnings.filterwarnings(\"ignore\")\n",
    "\n",
    "%load_ext autoreload\n",
    "%autoreload 2"
   ]
  },
  {
   "cell_type": "code",
   "execution_count": 31,
   "metadata": {},
   "outputs": [
    {
     "data": {
      "text/plain": [
       "array([[[[-1.,  0.,  1.]]]], dtype=float32)"
      ]
     },
     "execution_count": 31,
     "metadata": {},
     "output_type": "execute_result"
    }
   ],
   "source": [
    "np.array([[0, -1], [0, 1]]).T\n",
    "k1 = np.transpose(np.array([[0, 0], [-1, 1]], dtype=np.float32).reshape((2, 2, 1, 1)), [3, 2, 0, 1])\n",
    "np.transpose(np.array([[-1,0,1]], dtype=np.float32).reshape((1,3,1,1)), [3,2,0,1])"
   ]
  },
  {
   "cell_type": "code",
   "execution_count": 35,
   "metadata": {},
   "outputs": [
    {
     "data": {
      "text/plain": [
       "array([[-1,  8,  0, -8,  1]])"
      ]
     },
     "execution_count": 35,
     "metadata": {},
     "output_type": "execute_result"
    }
   ],
   "source": [
    "np.array([[-1,8,0,-8,1]])"
   ]
  },
  {
   "cell_type": "code",
   "execution_count": null,
   "metadata": {},
   "outputs": [],
   "source": [
    "# root = os.getcwd() + \"/ExDark\"\n",
    "# darkDataset = BatchLoader(root, imgHeight=128, imgWidth=128, shuffle=False)\n",
    "# exDark_train, exDark_val, exDark_test = random_split(darkDataset, [3000, 1800, 2563], generator=torch.Generator().manual_seed(6))\n",
    "# test_loader = DataLoader(exDark_test, batch_size=1, num_workers=0,\n",
    "#                             sampler=sampler.SubsetRandomSampler(range(2563)))\n",
    "# for i, batchdict in enumerate(test_loader):\n",
    "#     print(batchdict['im_path'])"
   ]
  },
  {
   "cell_type": "code",
   "execution_count": null,
   "metadata": {},
   "outputs": [],
   "source": [
    "# root = os.getcwd() + \"/ExDark\"\n",
    "# darkDataset = BatchLoader(root, imgHeight=128, imgWidth=128, shuffle=True)\n",
    "# print(\"length of dataset: \", len(darkDataset))\n",
    "# exdarkLoader = DataLoader(darkDataset, batch_size=1, num_workers=0, shuffle=True)\n",
    "# for i, dataBatch in enumerate(exdarkLoader):\n",
    "#     plt.imshow(dataBatch['im'][0].detach().numpy().transpose(1,2,0))\n",
    "#     plt.show()\n",
    "#     if i == 30:\n",
    "#         break"
   ]
  },
  {
   "cell_type": "markdown",
   "metadata": {},
   "source": [
    "## DataLoader"
   ]
  },
  {
   "cell_type": "markdown",
   "metadata": {},
   "source": [
    "We use the dataloader to load the train, validation and test sets."
   ]
  },
  {
   "cell_type": "markdown",
   "metadata": {},
   "source": [
    "## Training\n"
   ]
  },
  {
   "cell_type": "code",
   "execution_count": 66,
   "metadata": {},
   "outputs": [
    {
     "name": "stdout",
     "output_type": "stream",
     "text": [
      "7363\n"
     ]
    }
   ],
   "source": [
    "root = os.getcwd() + '/ExDark'\n",
    "darkDataset = BatchLoader(root, shuffle=False)\n",
    "# exDark_train, exDark_val, exDark_test = random_split(darkDataset, [3000, 1800, 2563], generator=torch.Generator().manual_seed(6))\n",
    "test_loader = DataLoader(darkDataset, batch_size=1, num_workers=0)\n",
    "\n",
    "print(len(test_loader))"
   ]
  },
  {
   "cell_type": "code",
   "execution_count": 52,
   "metadata": {},
   "outputs": [],
   "source": [
    "import torchvision.utils as vutils\n",
    "from models.ImgEnhanceNet import ImgEnhanceNet\n",
    "from loss_functions import ICE_loss"
   ]
  },
  {
   "cell_type": "code",
   "execution_count": 53,
   "metadata": {},
   "outputs": [],
   "source": [
    "# # img = plt.imread(\"./ExDark/Bus/2015_01897.jpg\")\n",
    "# img = plt.imread(\"./ExDark/Dog/2015_05590.jpg\")\n",
    "# img = img.astype(np.float32) / 255.0\n",
    "# img = img.transpose(2,0,1)\n",
    "# img = img[np.newaxis,:]\n",
    "# device = 'cuda' if torch.cuda.is_available() else 'cpu'\n",
    "# S = torch.from_numpy(img).to(device)\n",
    "# icenet = ImgEnhanceNet()\n",
    "# icenet.load_state_dict(torch.load(\"./checkpoint_icenet/icenet_190.pth\"))"
   ]
  },
  {
   "cell_type": "code",
   "execution_count": 54,
   "metadata": {
    "scrolled": true
   },
   "outputs": [],
   "source": [
    "# icenet = icenet.to(device)\n",
    "# # optimizer = torch.optim.Adam(icenet.parameters(), lr=0.001)\n",
    "# with torch.no_grad():\n",
    "#     icenet.eval()\n",
    "    \n",
    "#     R, I = icenet(S)\n",
    "#     R = R.to(device)\n",
    "#     I = I.to(device)\n",
    "    \n",
    "#     loss = ICE_loss(S,R,I)\n",
    "# #     loss.backward()\n",
    "# #     optimizer.step()\n",
    "    \n",
    "#     plt.imshow(R[0].detach().cpu().numpy().transpose(1,2,0))\n",
    "#     plt.axis('off')\n",
    "#     plt.show()\n",
    "#     vutils.save_image(R.data ,'2015_05590.jpg',\n",
    "#                           padding=0, normalize = True)\n",
    "# #         plt.imshow(R[0].detach().cpu().numpy().transpose(1,2,0))\n",
    "# #         plt.axis('off')\n",
    "# #         plt.show()"
   ]
  },
  {
   "cell_type": "code",
   "execution_count": 55,
   "metadata": {},
   "outputs": [
    {
     "ename": "FileExistsError",
     "evalue": "[Errno 17] File exists: 'ExDarkIN/Cat'",
     "output_type": "error",
     "traceback": [
      "\u001b[0;31m---------------------------------------------------------------------------\u001b[0m",
      "\u001b[0;31mFileExistsError\u001b[0m                           Traceback (most recent call last)",
      "\u001b[0;32m<ipython-input-55-0d3d7ad45279>\u001b[0m in \u001b[0;36m<module>\u001b[0;34m\u001b[0m\n\u001b[1;32m      1\u001b[0m \u001b[0mclassNames\u001b[0m \u001b[0;34m=\u001b[0m \u001b[0;34m[\u001b[0m\u001b[0mi\u001b[0m\u001b[0;34m.\u001b[0m\u001b[0msplit\u001b[0m\u001b[0;34m(\u001b[0m\u001b[0;34m\"/\"\u001b[0m\u001b[0;34m)\u001b[0m\u001b[0;34m[\u001b[0m\u001b[0;34m-\u001b[0m\u001b[0;36m1\u001b[0m\u001b[0;34m]\u001b[0m \u001b[0;32mfor\u001b[0m \u001b[0mi\u001b[0m \u001b[0;32min\u001b[0m \u001b[0mglob\u001b[0m\u001b[0;34m.\u001b[0m\u001b[0mglob\u001b[0m\u001b[0;34m(\u001b[0m\u001b[0mos\u001b[0m\u001b[0;34m.\u001b[0m\u001b[0mgetcwd\u001b[0m\u001b[0;34m(\u001b[0m\u001b[0;34m)\u001b[0m \u001b[0;34m+\u001b[0m \u001b[0;34m\"/ExDark\"\u001b[0m \u001b[0;34m+\u001b[0m \u001b[0;34m\"/*\"\u001b[0m\u001b[0;34m)\u001b[0m\u001b[0;34m]\u001b[0m\u001b[0;34m\u001b[0m\u001b[0;34m\u001b[0m\u001b[0m\n\u001b[1;32m      2\u001b[0m \u001b[0;32mfor\u001b[0m \u001b[0mcn\u001b[0m \u001b[0;32min\u001b[0m \u001b[0mclassNames\u001b[0m\u001b[0;34m:\u001b[0m\u001b[0;34m\u001b[0m\u001b[0;34m\u001b[0m\u001b[0m\n\u001b[0;32m----> 3\u001b[0;31m     \u001b[0mos\u001b[0m\u001b[0;34m.\u001b[0m\u001b[0mmakedirs\u001b[0m\u001b[0;34m(\u001b[0m\u001b[0;34m\"ExDarkIN/\"\u001b[0m \u001b[0;34m+\u001b[0m \u001b[0mcn\u001b[0m\u001b[0;34m)\u001b[0m\u001b[0;34m\u001b[0m\u001b[0;34m\u001b[0m\u001b[0m\n\u001b[0m",
      "\u001b[0;32m/opt/conda/lib/python3.7/os.py\u001b[0m in \u001b[0;36mmakedirs\u001b[0;34m(name, mode, exist_ok)\u001b[0m\n\u001b[1;32m    219\u001b[0m             \u001b[0;32mreturn\u001b[0m\u001b[0;34m\u001b[0m\u001b[0;34m\u001b[0m\u001b[0m\n\u001b[1;32m    220\u001b[0m     \u001b[0;32mtry\u001b[0m\u001b[0;34m:\u001b[0m\u001b[0;34m\u001b[0m\u001b[0;34m\u001b[0m\u001b[0m\n\u001b[0;32m--> 221\u001b[0;31m         \u001b[0mmkdir\u001b[0m\u001b[0;34m(\u001b[0m\u001b[0mname\u001b[0m\u001b[0;34m,\u001b[0m \u001b[0mmode\u001b[0m\u001b[0;34m)\u001b[0m\u001b[0;34m\u001b[0m\u001b[0;34m\u001b[0m\u001b[0m\n\u001b[0m\u001b[1;32m    222\u001b[0m     \u001b[0;32mexcept\u001b[0m \u001b[0mOSError\u001b[0m\u001b[0;34m:\u001b[0m\u001b[0;34m\u001b[0m\u001b[0;34m\u001b[0m\u001b[0m\n\u001b[1;32m    223\u001b[0m         \u001b[0;31m# Cannot rely on checking for EEXIST, since the operating system\u001b[0m\u001b[0;34m\u001b[0m\u001b[0;34m\u001b[0m\u001b[0;34m\u001b[0m\u001b[0m\n",
      "\u001b[0;31mFileExistsError\u001b[0m: [Errno 17] File exists: 'ExDarkIN/Cat'"
     ]
    }
   ],
   "source": [
    "classNames = [i.split(\"/\")[-1] for i in glob.glob(os.getcwd() + \"/ExDark\" + \"/*\")]\n",
    "for cn in classNames:\n",
    "    os.makedirs(\"ExDarkIN/\" + cn)"
   ]
  },
  {
   "cell_type": "code",
   "execution_count": 67,
   "metadata": {},
   "outputs": [
    {
     "data": {
      "text/plain": [
       "<All keys matched successfully>"
      ]
     },
     "execution_count": 67,
     "metadata": {},
     "output_type": "execute_result"
    }
   ],
   "source": [
    "model = ImgEnhanceNet()\n",
    "model.load_state_dict(torch.load(\"checkpoint_icenet/icenet_200.pth\"))"
   ]
  },
  {
   "cell_type": "code",
   "execution_count": 68,
   "metadata": {},
   "outputs": [],
   "source": [
    "import gc\n",
    "import torchvision.utils as vutils"
   ]
  },
  {
   "cell_type": "code",
   "execution_count": null,
   "metadata": {},
   "outputs": [
    {
     "name": "stdout",
     "output_type": "stream",
     "text": [
      "saving image:  /Cat/2015_03228.jpg\n",
      "saving image:  /Cat/2015_03649.jpg\n",
      "saving image:  /Cat/2015_03698.jpg\n",
      "saving image:  /Cat/2015_03067.jpg\n",
      "saving image:  /Cat/2015_03406.jpg\n",
      "saving image:  /Cat/2015_03737.png\n",
      "saving image:  /Cat/2015_03711.jpg\n",
      "saving image:  /Cat/2015_03254.jpg\n",
      "saving image:  /Cat/2015_03635.jpg\n",
      "saving image:  /Cat/2015_03192.jpg\n",
      "saving image:  /Cat/2015_03143.jpg\n",
      "saving image:  /Cat/2015_03285.jpg\n",
      "saving image:  /Cat/2015_03522.jpg\n",
      "saving image:  /Cat/2015_03253.jpg\n",
      "saving image:  /Cat/2015_03195.jpg\n",
      "saving image:  /Cat/2015_03632.jpg\n",
      "saving image:  /Cat/2015_03144.jpg\n",
      "saving image:  /Cat/2015_03525.jpg\n",
      "saving image:  /Cat/2015_03282.jpg\n",
      "saving image:  /Cat/2015_03588.jpg\n",
      "saving image:  /Cat/2015_03138.jpg\n",
      "saving image:  /Cat/2015_03559.jpg\n",
      "saving image:  /Cat/2015_03060.jpg\n",
      "saving image:  /Cat/2015_03401.jpg\n",
      "saving image:  /Cat/2015_03046.png\n",
      "saving image:  /Cat/2015_03377.jpg\n",
      "saving image:  /Cat/2015_03716.jpg\n",
      "saving image:  /Cat/2015_03473.jpg\n",
      "saving image:  /Cat/2015_03742.png\n",
      "saving image:  /Cat/2015_03305.jpg\n",
      "saving image:  /Cat/2015_03764.jpg\n",
      "saving image:  /Cat/2015_03221.jpg\n",
      "saving image:  /Cat/2015_03586.jpg\n",
      "saving image:  /Cat/2015_03359.JPEG\n",
      "saving image:  /Cat/2015_03640.jpg\n",
      "saving image:  /Cat/2015_03691.jpg\n",
      "saving image:  /Cat/2015_03136.jpg\n",
      "saving image:  /Cat/2015_03557.jpg\n",
      "saving image:  /Cat/2015_03379.jpg\n",
      "saving image:  /Cat/2015_03581.jpg\n",
      "saving image:  /Cat/2015_03226.jpg\n",
      "saving image:  /Cat/2015_03647.jpg\n",
      "saving image:  /Cat/2015_03131.jpg\n",
      "saving image:  /Cat/2015_03696.jpg\n",
      "saving image:  /Cat/2015_03550.jpg\n",
      "saving image:  /Cat/2015_03069.jpg\n",
      "saving image:  /Cat/2015_03408.jpg\n",
      "saving image:  /Cat/2015_03739.png\n",
      "saving image:  /Cat/2015_03474.jpg\n",
      "saving image:  /Cat/2015_03745.png\n",
      "saving image:  /Cat/2015_03302.jpg\n",
      "saving image:  /Cat/2015_03763.jpg\n",
      "saving image:  /Cat/2015_03565.jpg\n",
      "saving image:  /Cat/2015_03104.jpg\n",
      "saving image:  /Cat/2015_03672.jpg\n",
      "saving image:  /Cat/2015_03213.jpg\n",
      "saving image:  /Cat/2015_03519.jpg\n",
      "saving image:  /Cat/2015_03178.jpg\n",
      "saving image:  /Cat/2015_03490.jpg\n",
      "saving image:  /Cat/2015_03337.jpg\n",
      "saving image:  /Cat/2015_03441.jpg\n",
      "saving image:  /Cat/2015_03619.JPEG\n",
      "saving image:  /Cat/2015_03609.jpg\n",
      "saving image:  /Cat/2015_03268.jpg\n",
      "saving image:  /Cat/2015_03330.jpg\n",
      "saving image:  /Cat/2015_03497.jpg\n",
      "saving image:  /Cat/2015_03446.jpg\n",
      "saving image:  /Cat/2015_03562.jpg\n",
      "saving image:  /Cat/2015_03103.jpg\n",
      "saving image:  /Cat/2015_03675.jpg\n",
      "saving image:  /Cat/2015_03214.jpg\n",
      "saving image:  /Cat/2015_03510.jpg\n",
      "saving image:  /Cat/2015_03171.jpg\n",
      "saving image:  /Cat/2015_03607.jpg\n",
      "saving image:  /Cat/2015_03266.jpg\n",
      "saving image:  /Cat/2015_03499.jpg\n",
      "saving image:  /Cat/2015_03448.jpg\n",
      "saving image:  /Cat/2015_03084.jpg\n",
      "saving image:  /Cat/2015_03723.jpg\n",
      "saving image:  /Cat/2015_03342.jpg\n",
      "saving image:  /Cat/2015_03434.jpg\n",
      "saving image:  /Cat/2015_03393.jpg\n",
      "saving image:  /Cat/2015_03055.jpg\n",
      "saving image:  /Cat/2015_03724.jpg\n",
      "saving image:  /Cat/2015_03083.jpg\n",
      "saving image:  /Cat/2015_03345.jpg\n",
      "saving image:  /Cat/2015_03394.jpg\n",
      "saving image:  /Cat/2015_03433.jpg\n",
      "saving image:  /Cat/2015_03052.jpg\n",
      "saving image:  /Cat/2015_03517.jpg\n",
      "saving image:  /Cat/2015_03176.jpg\n",
      "saving image:  /Cat/2015_03600.jpg\n",
      "saving image:  /Cat/2015_03261.jpg\n",
      "saving image:  /Cat/2015_03758.jpg\n",
      "saving image:  /Cat/2015_03339.jpg\n",
      "saving image:  /Cat/2015_03422.jpg\n",
      "saving image:  /Cat/2015_03385.jpg\n",
      "saving image:  /Cat/2015_03043.jpg\n",
      "saving image:  /Cat/2015_03092.jpg\n",
      "saving image:  /Cat/2015_03354.jpg\n",
      "saving image:  /Cat/2015_03328.jpg\n",
      "saving image:  /Cat/2015_03611.jpg\n",
      "saving image:  /Cat/2015_03270.jpg\n",
      "saving image:  /Cat/2015_03506.jpg\n",
      "saving image:  /Cat/2015_03167.jpg\n",
      "saving image:  /Cat/2015_03459.jpg\n",
      "saving image:  /Cat/2015_03488.jpg\n",
      "saving image:  /Cat/2015_03616.jpg\n",
      "saving image:  /Cat/2015_03360.JPEG\n",
      "saving image:  /Cat/2015_03277.jpg\n",
      "saving image:  /Cat/2015_03501.jpg\n",
      "saving image:  /Cat/2015_03160.jpg\n",
      "saving image:  /Cat/2015_03382.jpg\n",
      "saving image:  /Cat/2015_03425.jpg\n",
      "saving image:  /Cat/2015_03044.jpg\n",
      "saving image:  /Cat/2015_03095.jpg\n",
      "saving image:  /Cat/2015_03353.jpg\n",
      "saving image:  /Cat/2015_03457.jpg\n",
      "saving image:  /Cat/2015_03486.jpg\n",
      "saving image:  /Cat/2015_03321.jpg\n",
      "saving image:  /Cat/2015_03618.jpg\n",
      "saving image:  /Cat/2015_03279.jpg\n",
      "saving image:  /Cat/2015_03664.jpg\n",
      "saving image:  /Cat/2015_03584.png\n",
      "saving image:  /Cat/2015_03205.jpg\n",
      "saving image:  /Cat/2015_03573.jpg\n",
      "saving image:  /Cat/2015_03112.jpg\n",
      "saving image:  /Cat/2015_03663.jpg\n",
      "saving image:  /Cat/2015_03202.jpg\n",
      "saving image:  /Cat/2015_03574.jpg\n",
      "saving image:  /Cat/2015_03115.jpg\n",
      "saving image:  /Cat/2015_03450.jpg\n",
      "saving image:  /Cat/2015_03326.jpg\n",
      "saving image:  /Cat/2015_03481.jpg\n",
      "saving image:  /Cat/2015_03508.jpg\n",
      "saving image:  /Cat/2015_03624.JPEG\n",
      "saving image:  /Cat/2015_03169.jpg\n",
      "saving image:  /Cat/2015_03078.jpg\n",
      "saving image:  /Cat/2015_03398.png\n",
      "saving image:  /Cat/2015_03419.jpg\n",
      "saving image:  /Cat/2015_03687.jpg\n",
      "saving image:  /Cat/2015_03120.jpg\n",
      "saving image:  /Cat/2015_03541.jpg\n",
      "saving image:  /Cat/2015_03237.jpg\n",
      "saving image:  /Cat/2015_03590.jpg\n",
      "saving image:  /Cat/2015_03313.jpg\n",
      "saving image:  /Cat/2015_03754.png\n",
      "saving image:  /Cat/2015_03772.jpg\n",
      "saving image:  /Cat/2015_03465.jpg\n",
      "saving image:  /Cat/2015_03314.jpg\n",
      "saving image:  /Cat/2015_03753.png\n",
      "saving image:  /Cat/2015_03775.jpg\n",
      "saving image:  /Cat/2015_03462.jpg\n",
      "saving image:  /Cat/2015_03368.jpg\n",
      "saving image:  /Cat/2015_03709.jpg\n",
      "saving image:  /Cat/2015_03127.jpg\n",
      "saving image:  /Cat/2015_03680.jpg\n",
      "saving image:  /Cat/2015_03355.JPEG\n",
      "saving image:  /Cat/2015_03546.jpg\n",
      "saving image:  /Cat/2015_03597.jpg\n",
      "saving image:  /Cat/2015_03230.jpg\n",
      "saving image:  /Cat/2015_03651.jpg\n",
      "saving image:  /Cat/2015_03155.jpg\n",
      "saving image:  /Cat/2015_03293.jpg\n",
      "saving image:  /Cat/2015_03534.jpg\n",
      "saving image:  /Cat/2015_03242.jpg\n",
      "saving image:  /Cat/2015_03184.jpg\n",
      "saving image:  /Cat/2015_03707.jpg\n"
     ]
    }
   ],
   "source": [
    "newRoot = \"ExDarkIN\"\n",
    "test_loss = []\n",
    "device = 'cuda' if torch.cuda.is_available() else 'cpu'\n",
    "model = model\n",
    "gc.collect()\n",
    "torch.cuda.empty_cache()\n",
    "with torch.no_grad():\n",
    "    for i, testBatch in enumerate(test_loader):\n",
    "        model.eval()\n",
    "        path = testBatch[\"im_path\"][0]\n",
    "        S = testBatch['im']\n",
    "        S = S\n",
    "        Smax, _ = torch.max(S, dim=1, keepdims=True)\n",
    "\n",
    "        R, I = model(S)\n",
    "        R = R\n",
    "        I = I\n",
    "\n",
    "        Rmax, _ = torch.max(R, dim=1, keepdims=True)\n",
    "        S_prime = torch.cat([S, Smax], dim=1)\n",
    "        S_new = torch.cat([S, Rmax], dim=1)\n",
    "        S_withI = torch.cat([R, I], dim=1)\n",
    "        \n",
    "        print(\"saving image: \", path)\n",
    "#         plt.imshow(S_prime[0].detach().cpu().numpy().transpose(1,2,0))\n",
    "#         plt.show()\n",
    "#         plt.imshow(S_new[0].detach().cpu().numpy().transpose(1,2,0))\n",
    "#         plt.show()\n",
    "#         plt.imshow(S_withI[0].detach().cpu().numpy().transpose(1,2,0))\n",
    "#         plt.show()\n",
    "        vutils.save_image(R.data , '%s%s' % (newRoot, path), padding=0, normalize = True)\n",
    "        # iceloss_test = ICE_loss(S, R, I)\n",
    "        # test_loss.append(iceloss_test)\n",
    "\n"
   ]
  },
  {
   "cell_type": "code",
   "execution_count": null,
   "metadata": {},
   "outputs": [],
   "source": []
  }
 ],
 "metadata": {
  "interpreter": {
   "hash": "d4d1e4263499bec80672ea0156c357c1ee493ec2b1c70f0acce89fc37c4a6abe"
  },
  "kernelspec": {
   "display_name": "Python 3",
   "language": "python",
   "name": "python3"
  },
  "language_info": {
   "codemirror_mode": {
    "name": "ipython",
    "version": 3
   },
   "file_extension": ".py",
   "mimetype": "text/x-python",
   "name": "python",
   "nbconvert_exporter": "python",
   "pygments_lexer": "ipython3",
   "version": "3.7.3"
  }
 },
 "nbformat": 4,
 "nbformat_minor": 2
}
