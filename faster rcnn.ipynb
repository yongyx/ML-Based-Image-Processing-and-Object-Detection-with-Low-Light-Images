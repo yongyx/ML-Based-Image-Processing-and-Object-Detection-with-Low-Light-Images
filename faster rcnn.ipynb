{
 "cells": [
  {
   "cell_type": "markdown",
   "id": "c48e0817",
   "metadata": {},
   "source": [
    "https://pytorch.org/tutorials/beginner/basics/data_tutorial.html\n",
    "\n",
    "https://pytorch.org/tutorials/intermediate/torchvision_tutorial.html"
   ]
  },
  {
   "cell_type": "code",
   "execution_count": 13,
   "id": "63e7b833",
   "metadata": {},
   "outputs": [],
   "source": [
    "import torch\n",
    "from torch.utils.data import DataLoader, Dataset\n",
    "import torchvision.transforms as T\n",
    "import matplotlib.pyplot as plt\n",
    "import numpy as np\n",
    "import os\n",
    "from PIL import Image\n",
    "import random"
   ]
  },
  {
   "cell_type": "code",
   "execution_count": 14,
   "id": "ff1f3909",
   "metadata": {},
   "outputs": [
    {
     "name": "stdout",
     "output_type": "stream",
     "text": [
      "Random Seed:  999\n"
     ]
    },
    {
     "data": {
      "text/plain": [
       "<torch._C.Generator at 0x7f2f9d399690>"
      ]
     },
     "execution_count": 14,
     "metadata": {},
     "output_type": "execute_result"
    }
   ],
   "source": [
    "# Set random seed for reproducibility\n",
    "manualSeed = 999\n",
    "#manualSeed = random.randint(1, 10000) # use if you want new results\n",
    "print(\"Random Seed: \", manualSeed)\n",
    "random.seed(manualSeed)\n",
    "torch.manual_seed(manualSeed)"
   ]
  },
  {
   "cell_type": "code",
   "execution_count": 15,
   "id": "a4f951f5",
   "metadata": {},
   "outputs": [
    {
     "name": "stdout",
     "output_type": "stream",
     "text": [
      "cpu\n"
     ]
    }
   ],
   "source": [
    "device = torch.device(\"cuda\" if torch.cuda.is_available() else \"cpu\")\n",
    "print(device)"
   ]
  },
  {
   "cell_type": "code",
   "execution_count": 16,
   "id": "ae21ac4c",
   "metadata": {},
   "outputs": [],
   "source": [
    "class CustomImageDataset(Dataset):\n",
    "    def __init__(self, img_dir='./ExDark', label_dir='./ExDarkAnnotation', transform=None):\n",
    "        '''\n",
    "        Args:\n",
    "            img_dir: image root directory containing the different class folders ie 'img_dir/class1/image1'\n",
    "            label_dir: label root directory containing the different class folders ie 'label_dir/class1/label1'\n",
    "            transform: transforms to apply to the input image\n",
    "        '''\n",
    "        self.label_dir = label_dir\n",
    "        self.img_dir = img_dir\n",
    "        self.transform = transform\n",
    "        self.imagelist = [] #list of lists containing [image_name, class_name]\n",
    "        # example of self.imagelist[12] = ['2015_01863.png', 'Bottle']\n",
    "        self.class_to_num = {} #maps class name to numeric value ie {'Bottle':1,'Bicycle':2}\n",
    "        \n",
    "        #go through each class folder\n",
    "        class_counter = 1\n",
    "        for class_name in os.listdir(img_dir):\n",
    "            self.class_to_num[class_name] = class_counter\n",
    "            class_counter += 1\n",
    "            classpath = img_dir+'/'+class_name # './img_dir/class_name'\n",
    "            \n",
    "            #go through each image in the class folder\n",
    "            for img in os.listdir(classpath): \n",
    "                self.imagelist.append([img, class_name])\n",
    "\n",
    "    def __len__(self):\n",
    "        return len(self.imagelist)\n",
    "\n",
    "    def __getitem__(self, idx):\n",
    "        '''\n",
    "        Returns:\n",
    "            image: (PIL or a torch.Tensor) input image\n",
    "            target: (dict) label dictionary required for faster R-CNN\n",
    "        '''\n",
    "        image_name, class_folder = self.imagelist[idx]\n",
    "        img_path = os.path.join(self.img_dir,class_folder,image_name)\n",
    "        target_path = os.path.join(self.label_dir,class_folder,image_name+'.txt')\n",
    "        \n",
    "        image = Image.open(img_path).convert(\"RGB\")\n",
    "        \n",
    "        if self.transform is not None:\n",
    "            image = self.transform(image)\n",
    "            image = image.to(dtype=torch.float32)\n",
    "        \n",
    "        boxes = []\n",
    "        labels = []\n",
    "        with open(target_path,'r') as f:\n",
    "            for line in f:\n",
    "                if line[0] == '%':\n",
    "                    continue\n",
    "                else:\n",
    "                    line = line.split()\n",
    "                    classlabel = line[0]\n",
    "                    labels.append(self.class_to_num[classlabel])\n",
    "                    xmin = int(line[1])\n",
    "                    ymin = int(line[2])\n",
    "                    xmax = xmin + int(line[3])\n",
    "                    ymax = ymin + int(line[4])\n",
    "                    boxes.append([xmin, ymin, xmax, ymax]) #bounding box coords\n",
    "        \n",
    "        assert len(boxes) == len(labels)\n",
    "        \n",
    "        #turn everything into a torch.Tensor\n",
    "        boxes = torch.as_tensor(boxes, dtype=torch.float32)\n",
    "        labels = torch.as_tensor(labels, dtype=torch.int64)\n",
    "        \n",
    "        target = {}\n",
    "        target['boxes'] = boxes\n",
    "        target['labels'] = labels\n",
    "        \n",
    "        return image, target"
   ]
  },
  {
   "cell_type": "code",
   "execution_count": 50,
   "id": "ae54cc04",
   "metadata": {},
   "outputs": [
    {
     "name": "stderr",
     "output_type": "stream",
     "text": [
      "Downloading: \"https://download.pytorch.org/models/fasterrcnn_resnet50_fpn_coco-258fb6c6.pth\" to /tmp/xdg-cache/torch/hub/checkpoints/fasterrcnn_resnet50_fpn_coco-258fb6c6.pth\n"
     ]
    },
    {
     "data": {
      "application/vnd.jupyter.widget-view+json": {
       "model_id": "e31a183e8aa041b9b688b9adf5e1532a",
       "version_major": 2,
       "version_minor": 0
      },
      "text/plain": [
       "  0%|          | 0.00/160M [00:00<?, ?B/s]"
      ]
     },
     "metadata": {},
     "output_type": "display_data"
    }
   ],
   "source": [
    "import torchvision\n",
    "from torchvision.models.detection.faster_rcnn import FastRCNNPredictor\n",
    "\n",
    "# load a model pre-trained on COCO\n",
    "model = torchvision.models.detection.fasterrcnn_resnet50_fpn(pretrained=True)\n",
    "\n",
    "# replace the classifier with a new one, that has\n",
    "# num_classes which is user-defined\n",
    "num_classes = 13  # 1 class (person) + background\n",
    "# get number of input features for the classifier\n",
    "in_features = model.roi_heads.box_predictor.cls_score.in_features\n",
    "# replace the pre-trained head with a new one\n",
    "model.roi_heads.box_predictor = FastRCNNPredictor(in_features, num_classes)"
   ]
  },
  {
   "cell_type": "code",
   "execution_count": 24,
   "id": "67e1083e",
   "metadata": {},
   "outputs": [],
   "source": [
    "input_transform = T.Compose([T.PILToTensor()])\n",
    "dataset = CustomImageDataset(img_dir='./ExDark',label_dir='./ExDarkAnnotation',transform=input_transform)\n",
    "dataset_test = CustomImageDataset(img_dir='./ExDark',label_dir='./ExDarkAnnotation',transform=input_transform)\n",
    "\n",
    "#split the dataset into train and test set\n",
    "indices = torch.randperm(len(dataset)).tolist()\n",
    "dataset = torch.utils.data.Subset(dataset, indices[:-1411])\n",
    "dataset_test = torch.utils.data.Subset(dataset_test, indices[-1411:])"
   ]
  },
  {
   "cell_type": "code",
   "execution_count": 3,
   "id": "51d04a52",
   "metadata": {},
   "outputs": [
    {
     "name": "stdout",
     "output_type": "stream",
     "text": [
      "cpu\n"
     ]
    }
   ],
   "source": [
    "batch_size = 32\n",
    "iterations = int(len(dataset)/batch_size) #chose 1411 and batch_size=32 so we can divide dataset by batch_size evenly\n",
    "num_epochs = 1\n",
    "\n",
    "optimizer = torch.optim.SGD(model.parameters(), lr=0.005,\n",
    "                            momentum=0.9, weight_decay=0.0005)\n",
    "\n",
    "\n",
    "for epoch in range(num_epochs):\n",
    "    for it in range(iterations):\n",
    "        #get batch data\n",
    "        for b in range(batch_size):\n",
    "            \n",
    "        "
   ]
  },
  {
   "cell_type": "code",
   "execution_count": null,
   "id": "c5bf9ba0",
   "metadata": {},
   "outputs": [],
   "source": []
  }
 ],
 "metadata": {
  "kernelspec": {
   "display_name": "Python 3 (clean)",
   "language": "python",
   "name": "python3_clean"
  },
  "language_info": {
   "codemirror_mode": {
    "name": "ipython",
    "version": 3
   },
   "file_extension": ".py",
   "mimetype": "text/x-python",
   "name": "python",
   "nbconvert_exporter": "python",
   "pygments_lexer": "ipython3",
   "version": "3.9.5"
  }
 },
 "nbformat": 4,
 "nbformat_minor": 5
}
