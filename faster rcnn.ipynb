{
 "cells": [
  {
   "cell_type": "markdown",
   "id": "c48e0817",
   "metadata": {},
   "source": [
    "https://pytorch.org/tutorials/beginner/basics/data_tutorial.html\n",
    "\n",
    "https://pytorch.org/tutorials/intermediate/torchvision_tutorial.html"
   ]
  },
  {
   "cell_type": "code",
   "execution_count": 1,
   "id": "63e7b833",
   "metadata": {},
   "outputs": [],
   "source": [
    "import torch\n",
    "from torch.utils.data import DataLoader, Dataset\n",
    "from torchmetrics.detection import MeanAveragePrecision\n",
    "import torchvision.transforms as T\n",
    "import matplotlib.pyplot as plt\n",
    "import numpy as np\n",
    "import os\n",
    "from PIL import Image\n",
    "import random\n",
    "import time\n",
    "from pprint import pprint"
   ]
  },
  {
   "cell_type": "code",
   "execution_count": 2,
   "id": "ff1f3909",
   "metadata": {},
   "outputs": [
    {
     "name": "stdout",
     "output_type": "stream",
     "text": [
      "Random Seed:  99\n"
     ]
    },
    {
     "data": {
      "text/plain": [
       "<torch._C.Generator at 0x7fc2801475b0>"
      ]
     },
     "execution_count": 2,
     "metadata": {},
     "output_type": "execute_result"
    }
   ],
   "source": [
    "# Set random seed for reproducibility\n",
    "manualSeed = 99\n",
    "#manualSeed = random.randint(1, 10000) # use if you want new results\n",
    "print(\"Random Seed: \", manualSeed)\n",
    "random.seed(manualSeed)\n",
    "torch.manual_seed(manualSeed)"
   ]
  },
  {
   "cell_type": "code",
   "execution_count": 3,
   "id": "a4f951f5",
   "metadata": {},
   "outputs": [
    {
     "name": "stdout",
     "output_type": "stream",
     "text": [
      "cuda\n"
     ]
    }
   ],
   "source": [
    "device = torch.device(\"cuda\" if torch.cuda.is_available() else \"cpu\")\n",
    "print(device)"
   ]
  },
  {
   "cell_type": "markdown",
   "id": "650ba413",
   "metadata": {},
   "source": [
    "# Preprocessing\n",
    "\n",
    "Before starting, make sure to:\n",
    "1. name the root_folder\n",
    "2. Rename img_root/Bicycle/2015_00391.JPG to ExDark/Bicycle/2015_00391.jpg (since ExDarkAnnotation is called 2015_00391.jpg.txt)\n",
    "3. Remove img_root/Bicycle/.ipynb_checkpoints\n",
    "4. Remove img_root/Motorbike/2015_05894.jpg (since ExDarkAnnotation/Motorbike/2015_05894.jpg.txt has no box coordinates)"
   ]
  },
  {
   "cell_type": "code",
   "execution_count": null,
   "id": "b23621cb",
   "metadata": {},
   "outputs": [],
   "source": [
    "#folder containing dataset to train/test on\n",
    "root_folder = 'ExDark'"
   ]
  },
  {
   "cell_type": "code",
   "execution_count": 4,
   "id": "abb7c714",
   "metadata": {},
   "outputs": [
    {
     "name": "stdout",
     "output_type": "stream",
     "text": [
      "created ./torchsaves/ExDark...\n",
      "checking imagepath: ./ExDark/Cat ~ labelpath: ./ExDarkAnnotation/Cat\n",
      "checking imagepath: ./ExDark/Boat ~ labelpath: ./ExDarkAnnotation/Boat\n",
      "checking imagepath: ./ExDark/Motorbike ~ labelpath: ./ExDarkAnnotation/Motorbike\n",
      "checking imagepath: ./ExDark/Chair ~ labelpath: ./ExDarkAnnotation/Chair\n",
      "checking imagepath: ./ExDark/Cup ~ labelpath: ./ExDarkAnnotation/Cup\n",
      "checking imagepath: ./ExDark/Car ~ labelpath: ./ExDarkAnnotation/Car\n",
      "checking imagepath: ./ExDark/Table ~ labelpath: ./ExDarkAnnotation/Table\n",
      "checking imagepath: ./ExDark/People ~ labelpath: ./ExDarkAnnotation/People\n",
      "checking imagepath: ./ExDark/Bottle ~ labelpath: ./ExDarkAnnotation/Bottle\n",
      "checking imagepath: ./ExDark/Bicycle ~ labelpath: ./ExDarkAnnotation/Bicycle\n",
      "checking imagepath: ./ExDark/Dog ~ labelpath: ./ExDarkAnnotation/Dog\n",
      "checking imagepath: ./ExDark/Bus ~ labelpath: ./ExDarkAnnotation/Bus\n"
     ]
    }
   ],
   "source": [
    "#go through every file and make sure the images have the same name format as their annotation counterpart.\n",
    "img_root = './{}'.format(root_folder) #all images should be stored in this folder\n",
    "\n",
    "#create directory to store models during training\n",
    "modelsaves = './torchsaves/{}'.format(root_folder)\n",
    "if not os.path.exists(modelsaves):\n",
    "    os.mkdir(modelsaves)\n",
    "    print('created {}...'.format(modelsaves))\n",
    "    \n",
    "#check 2\n",
    "img1 = '{}/Bicycle/2015_00391.JPG'.format(img_root)\n",
    "if os.path.exists(img1):\n",
    "    os.rename(img1,'{}/Bicycle/2015_00391.jpg'.format(img_root))\n",
    "\n",
    "#check 3\n",
    "if os.path.exists('{}/Bicycle/.ipynb_checkpoints'.format(img_root)):\n",
    "    os.rmdir('{}/Bicycle/.ipynb_checkpoints'.format(img_root))\n",
    "\n",
    "#check 4\n",
    "img3 = '{}/Motorbike/2015_05894.jpg.txt'.format(img_root)\n",
    "if os.path.exists(img3):\n",
    "    os.remove('{}/Motorbike/2015_05894.jpg.txt'.format(img_root))\n",
    "if os.path.exists('./ExDarkAnnotation/Motorbike/2015_05894.jpg.txt'):\n",
    "    os.remove('./ExDarkAnnotation/Motorbike/2015_05894.jpg.txt')\n",
    "\n",
    "#check for any bad files we may have missed\n",
    "for classname in os.listdir(img_root):\n",
    "    if classname == '__MACOSX':\n",
    "        print(' --- please remove __MACOSX folder!!! ---')\n",
    "        continue\n",
    "    labelpath = os.path.join('./ExDarkAnnotation',classname)\n",
    "    imagepath = os.path.join(img_root,classname)\n",
    "    print('checking imagepath: {} ~ labelpath: {}'.format(imagepath,labelpath))\n",
    "    for img_name in os.listdir(imagepath):\n",
    "        if img_name[0] != '2':\n",
    "            print('{} at {}'.format(img_name,imagepath))\n",
    "        lblpath = os.path.join(labelpath,img_name+'.txt')\n",
    "        if not os.path.exists(lblpath):\n",
    "            print('img path: {}'.format(img_name))"
   ]
  },
  {
   "cell_type": "markdown",
   "id": "57414cd9",
   "metadata": {},
   "source": [
    "# Custom Dataset and Model"
   ]
  },
  {
   "cell_type": "code",
   "execution_count": 5,
   "id": "ae21ac4c",
   "metadata": {},
   "outputs": [],
   "source": [
    "class CustomImageDataset(Dataset):\n",
    "    def __init__(self, img_dir='./ExDark', label_dir='./ExDarkAnnotation', transform=None):\n",
    "        '''\n",
    "        Args:\n",
    "            img_dir: image root directory containing the different class folders ie 'img_dir/class1/image1'\n",
    "            label_dir: label root directory containing the different class folders ie 'label_dir/class1/label1'\n",
    "            transform: transforms to apply to the input image\n",
    "        '''\n",
    "        self.label_dir = label_dir\n",
    "        self.img_dir = img_dir\n",
    "        self.transform = transform\n",
    "        self.imagelist = [] #list of lists containing [image_name, class_name]\n",
    "        # example of self.imagelist[12] = ['2015_01863.png', 'Bottle']\n",
    "        self.class_to_num = {} #maps class name to numeric value ie {'Bottle':1,'Bicycle':2}\n",
    "        \n",
    "        #go through each class folder\n",
    "        class_counter = 1\n",
    "        for class_name in os.listdir(img_dir):\n",
    "            self.class_to_num[class_name] = class_counter\n",
    "            class_counter += 1\n",
    "            classpath = img_dir+'/'+class_name # './img_dir/class_name'\n",
    "            \n",
    "            #go through each image in the class folder\n",
    "            for img in os.listdir(classpath): \n",
    "                self.imagelist.append([img, class_name])\n",
    "\n",
    "    def __len__(self):\n",
    "        return len(self.imagelist)\n",
    "\n",
    "    def __getitem__(self, idx):\n",
    "        '''\n",
    "        Returns:\n",
    "            image: (PIL or a torch.Tensor) input image\n",
    "            target: (dict) label dictionary required for faster R-CNN\n",
    "        '''\n",
    "        image_name, class_folder = self.imagelist[idx]\n",
    "        img_path = os.path.join(self.img_dir,class_folder,image_name)\n",
    "        target_path = os.path.join(self.label_dir,class_folder,image_name+'.txt')\n",
    "        \n",
    "        image = Image.open(img_path).convert(\"RGB\")\n",
    "        \n",
    "        if self.transform is not None:\n",
    "            image = self.transform(image)\n",
    "            image = image.to(dtype=torch.float32)\n",
    "        \n",
    "        boxes = []\n",
    "        labels = []\n",
    "        with open(target_path,'r') as f:\n",
    "            for line in f:\n",
    "                if line[0] == '%':\n",
    "                    continue\n",
    "                else:\n",
    "                    line = line.split()\n",
    "                    classlabel = line[0]\n",
    "                    labels.append(self.class_to_num[classlabel])\n",
    "                    xmin = int(line[1])\n",
    "                    ymin = int(line[2])\n",
    "                    xmax = xmin + int(line[3])\n",
    "                    ymax = ymin + int(line[4])\n",
    "                    boxes.append([xmin, ymin, xmax, ymax]) #bounding box coords\n",
    "        \n",
    "        assert len(boxes) == len(labels)\n",
    "        \n",
    "        #turn everything into a torch.Tensor\n",
    "        boxes = torch.as_tensor(boxes, dtype=torch.float32)\n",
    "        labels = torch.as_tensor(labels, dtype=torch.int64)\n",
    "        \n",
    "        target = {}\n",
    "        target['boxes'] = boxes\n",
    "        target['labels'] = labels\n",
    "        \n",
    "        return image, target"
   ]
  },
  {
   "cell_type": "code",
   "execution_count": 6,
   "id": "ae54cc04",
   "metadata": {},
   "outputs": [],
   "source": [
    "import torchvision\n",
    "from torchvision.models.detection.faster_rcnn import FastRCNNPredictor\n",
    "\n",
    "# load a model pre-trained on COCO\n",
    "# model = torchvision.models.detection.fasterrcnn_resnet50_fpn(pretrained=True)\n",
    "model = torchvision.models.detection.fasterrcnn_mobilenet_v3_large_fpn(pretrained=True)\n",
    "\n",
    "# replace the classifier with a new one, that has\n",
    "# num_classes which is user-defined\n",
    "num_classes = 13  # 1 class (person) + background\n",
    "# get number of input features for the classifier\n",
    "in_features = model.roi_heads.box_predictor.cls_score.in_features\n",
    "# replace the pre-trained head with a new one\n",
    "model.roi_heads.box_predictor = FastRCNNPredictor(in_features, num_classes)"
   ]
  },
  {
   "cell_type": "code",
   "execution_count": 7,
   "id": "67e1083e",
   "metadata": {},
   "outputs": [],
   "source": [
    "# input_transform = T.Compose([T.PILToTensor()])\n",
    "input_transform = T.Compose([T.ToTensor()])\n",
    "dataset = CustomImageDataset(img_dir=img_root,label_dir='./ExDarkAnnotation',transform=input_transform)\n",
    "dataset_test = CustomImageDataset(img_dir=img_root,label_dir='./ExDarkAnnotation',transform=input_transform)\n",
    "\n",
    "#split the dataset into train and test set\n",
    "indices = torch.randperm(len(dataset)).tolist()\n",
    "dataset = torch.utils.data.Subset(dataset, indices[:-1412])\n",
    "dataset_test = torch.utils.data.Subset(dataset_test, indices[-1412:])"
   ]
  },
  {
   "cell_type": "markdown",
   "id": "84ee476c",
   "metadata": {},
   "source": [
    "# Train"
   ]
  },
  {
   "cell_type": "markdown",
   "id": "990ac32a",
   "metadata": {},
   "source": [
    "GPU out of memory error/ kernel dying with large batch_size."
   ]
  },
  {
   "cell_type": "code",
   "execution_count": 8,
   "id": "51d04a52",
   "metadata": {
    "scrolled": true
   },
   "outputs": [
    {
     "name": "stdout",
     "output_type": "stream",
     "text": [
      "Starting training on ExDark data...\n",
      "\n",
      "starting epoch 0\n",
      "batch 0/1487\n"
     ]
    },
    {
     "name": "stderr",
     "output_type": "stream",
     "text": [
      "/home/cys005/.local/lib/python3.9/site-packages/torch/functional.py:445: UserWarning: torch.meshgrid: in an upcoming release, it will be required to pass the indexing argument. (Triggered internally at  ../aten/src/ATen/native/TensorShape.cpp:2157.)\n",
      "  return _VF.meshgrid(tensors, **kwargs)  # type: ignore[attr-defined]\n"
     ]
    },
    {
     "name": "stdout",
     "output_type": "stream",
     "text": [
      "batch 200/1487\n",
      "batch 400/1487\n",
      "batch 600/1487\n",
      "batch 800/1487\n",
      "batch 1000/1487\n",
      "batch 1200/1487\n",
      "batch 1400/1487\n",
      "starting epoch 1\n",
      "batch 0/1487\n",
      "batch 200/1487\n",
      "batch 400/1487\n",
      "batch 600/1487\n",
      "batch 800/1487\n",
      "batch 1000/1487\n",
      "batch 1200/1487\n",
      "batch 1400/1487\n",
      "starting epoch 2\n",
      "batch 0/1487\n",
      "batch 200/1487\n",
      "batch 400/1487\n",
      "batch 600/1487\n",
      "batch 800/1487\n",
      "batch 1000/1487\n",
      "batch 1200/1487\n",
      "batch 1400/1487\n",
      "starting epoch 3\n",
      "batch 0/1487\n",
      "batch 200/1487\n",
      "batch 400/1487\n",
      "batch 600/1487\n",
      "batch 800/1487\n",
      "batch 1000/1487\n",
      "batch 1200/1487\n",
      "batch 1400/1487\n",
      "starting epoch 4\n",
      "batch 0/1487\n",
      "batch 200/1487\n",
      "batch 400/1487\n",
      "batch 600/1487\n",
      "batch 800/1487\n",
      "batch 1000/1487\n",
      "batch 1200/1487\n",
      "batch 1400/1487\n",
      "starting epoch 5\n",
      "batch 0/1487\n",
      "batch 200/1487\n",
      "batch 400/1487\n",
      "batch 600/1487\n",
      "batch 800/1487\n",
      "batch 1000/1487\n",
      "batch 1200/1487\n",
      "batch 1400/1487\n",
      "starting epoch 6\n",
      "batch 0/1487\n",
      "batch 200/1487\n",
      "batch 400/1487\n",
      "batch 600/1487\n",
      "batch 800/1487\n",
      "batch 1000/1487\n",
      "batch 1200/1487\n",
      "batch 1400/1487\n",
      "starting epoch 7\n",
      "batch 0/1487\n",
      "batch 200/1487\n",
      "batch 400/1487\n",
      "batch 600/1487\n",
      "batch 800/1487\n",
      "batch 1000/1487\n",
      "batch 1200/1487\n",
      "batch 1400/1487\n",
      "starting epoch 8\n",
      "batch 0/1487\n",
      "batch 200/1487\n",
      "batch 400/1487\n",
      "batch 600/1487\n",
      "batch 800/1487\n",
      "batch 1000/1487\n",
      "batch 1200/1487\n",
      "batch 1400/1487\n",
      "starting epoch 9\n",
      "batch 0/1487\n",
      "batch 200/1487\n",
      "batch 400/1487\n",
      "batch 600/1487\n",
      "batch 800/1487\n",
      "batch 1000/1487\n",
      "batch 1200/1487\n",
      "batch 1400/1487\n"
     ]
    }
   ],
   "source": [
    "batch_size = 4\n",
    "iterations = int(len(dataset)/batch_size) #chose 1412 so we can divide dataset by batch_size=32 evenly\n",
    "num_epochs = 10\n",
    "\n",
    "model = model.to(device)\n",
    "# model.train() #not needed?\n",
    "\n",
    "params = [p for p in model.parameters() if p.requires_grad]\n",
    "optimizer = torch.optim.SGD(params, lr=0.005,\n",
    "                            momentum=0.9, weight_decay=0.0005)\n",
    "\n",
    "\n",
    "losslist = [] #for graphing losses afterwards\n",
    "#TODO - \n",
    "### add validation loss stuff? or just train loss\n",
    "print('Starting training on {} data...\\n'.format(root_folder))\n",
    "for epoch in range(num_epochs):\n",
    "    print('starting epoch {}'.format(epoch))\n",
    "    for it in range(iterations):\n",
    "        if it%200 == 0:\n",
    "            print('batch {}/{}'.format(it,iterations))\n",
    "        #get batch data\n",
    "        #faster r-cnn expects 2 inputs: a list of images and a list of target dictionaries\n",
    "        images = []\n",
    "        targets = []\n",
    "        for b in range(batch_size*it,batch_size*(it+1)):\n",
    "            img, t = dataset[b]\n",
    "            images.append(img.to(device))\n",
    "#             images.append(img)\n",
    "            t['boxes'] = t['boxes'].to(device) #have to convert the target dictionary to gpu\n",
    "            t['labels'] = t['labels'].to(device)\n",
    "            targets.append(t)\n",
    "            \n",
    "        #forward pass through model and backprop\n",
    "        '''\n",
    "        follows the same logic as train_one_epoch() found here:\n",
    "        https://github.com/pytorch/vision/blob/main/references/detection/engine.py\n",
    "        '''\n",
    "        loss_dict = model(images,targets)\n",
    "        losses = sum(loss for loss in loss_dict.values())\n",
    "        if it%100 == 0:\n",
    "            losslist.append(losses.item())\n",
    "        optimizer.zero_grad()\n",
    "        losses.backward()\n",
    "        optimizer.step()\n",
    "    torch.save(model.state_dict(),'{}/model_epoch{}.pt'.format(modelsaves,epoch))\n",
    "    torch.save(optimizer.state_dict(),'{}/optimizer_epoch{}.pt'.format(modelsaves,epoch))"
   ]
  },
  {
   "cell_type": "code",
   "execution_count": 11,
   "id": "5a697d8c",
   "metadata": {},
   "outputs": [
    {
     "data": {
      "image/png": "[encoded data removed]",
      "text/plain": [
       "<Figure size 432x288 with 1 Axes>"
      ]
     },
     "metadata": {
      "needs_background": "light"
     },
     "output_type": "display_data"
    }
   ],
   "source": [
    "x = np.arange(len(losslist))\n",
    "plt.plot(x,losslist)\n",
    "plt.title('loss vs iteration for {}'.format(root_folder))\n",
    "plt.ylabel('loss')\n",
    "plt.xlabel('iterations (units of 100)');"
   ]
  },
  {
   "cell_type": "markdown",
   "id": "de602415",
   "metadata": {},
   "source": [
    "# Get Test Metric"
   ]
  },
  {
   "cell_type": "code",
   "execution_count": 106,
   "id": "ec4fe988",
   "metadata": {},
   "outputs": [],
   "source": [
    "def get_predicted_boxes(output, score_thresh=0.8):\n",
    "    '''\n",
    "    takes in output of model and returns predicted boxes with scores >= score_thresh\n",
    "    \n",
    "    Args:\n",
    "        output: a list of dictionaries (model predictions)\n",
    "    '''\n",
    "    predicted_list = []\n",
    "    \n",
    "    for label_dict in output:\n",
    "        predicted = {'boxes':[],'labels':[],'scores':[]}\n",
    "        s = label_dict['scores']\n",
    "        for i in range(len(s)):\n",
    "            if s[i] > score_thresh:\n",
    "                predicted['boxes'].append(label_dict['boxes'][i].tolist())\n",
    "                predicted['labels'].append(label_dict['labels'][i].tolist())\n",
    "                predicted['scores'].append(s[i].tolist())\n",
    "            else:\n",
    "                #scores should be sorted so we just stop checking after reaching the first elem<0.8\n",
    "                break\n",
    "        predicted['boxes'] = torch.tensor(predicted['boxes'])\n",
    "        predicted['labels'] = torch.tensor(predicted['labels'])\n",
    "        predicted['scores'] = torch.tensor(predicted['scores'])\n",
    "        predicted_list.append(predicted)\n",
    "    return predicted_list"
   ]
  },
  {
   "cell_type": "code",
   "execution_count": 108,
   "id": "6463a3ae",
   "metadata": {},
   "outputs": [
    {
     "name": "stdout",
     "output_type": "stream",
     "text": [
      "{'map': tensor(0.2866),\n",
      " 'map_50': tensor(0.5124),\n",
      " 'map_75': tensor(0.2864),\n",
      " 'map_large': tensor(0.3505),\n",
      " 'map_medium': tensor(0.1635),\n",
      " 'map_per_class': tensor(-1.),\n",
      " 'map_small': tensor(0.0443),\n",
      " 'mar_1': tensor(0.2629),\n",
      " 'mar_10': tensor(0.3517),\n",
      " 'mar_100': tensor(0.3527),\n",
      " 'mar_100_per_class': tensor(-1.),\n",
      " 'mar_large': tensor(0.4251),\n",
      " 'mar_medium': tensor(0.2188),\n",
      " 'mar_small': tensor(0.0536)}\n",
      "took 110.23971176147461s\n"
     ]
    }
   ],
   "source": [
    "# test_batch_size = 4 #len of dataset_test is 1412 so it divides evenly by 4\n",
    "\n",
    "model.eval()\n",
    "\n",
    "# images = []\n",
    "# truelabel = []\n",
    "start = time.time()\n",
    "metric = MeanAveragePrecision()\n",
    "for i in range(len(dataset_test)):\n",
    "    img, truth = dataset_test[i]\n",
    "#     images.append(img.to(device))\n",
    "#     t['boxes'] = t['boxes'].to(device)\n",
    "#     t['labels'] = t['labels'].to(device)\n",
    "#     truelabel.append(t)\n",
    "    \n",
    "    out = model(img.unsqueeze(dim=0).to(device))\n",
    "    \n",
    "    predictions = get_predicted_boxes(out)\n",
    "    \n",
    "    metric.update(predictions, [truth])\n",
    "\n",
    "pprint(metric.compute())\n",
    "\n",
    "end = time.time()\n",
    "print('took {}s'.format(end-start))"
   ]
  },
  {
   "cell_type": "markdown",
   "id": "f5c354aa",
   "metadata": {},
   "source": [
    "# Take a look at model output"
   ]
  },
  {
   "cell_type": "code",
   "execution_count": null,
   "id": "0c27a43f",
   "metadata": {},
   "outputs": [],
   "source": [
    "#get 1 test data to look at\n",
    "test_img, test_box = dataset_test[0]\n",
    "model.eval()\n",
    "output = model([test_img.to(device)])\n",
    "np_img = test_img.numpy()\n",
    "np_img = np.transpose(np_img,(1,2,0))\n",
    "\n",
    "#get predicted bounding boxes with score > 0.8\n",
    "predicted = {'boxes':[],'labels':[],'scores':[]}\n",
    "for label_dict in output:\n",
    "    s = label_dict['scores']\n",
    "    for i in range(len(s)):\n",
    "        if s[i] > 0.8:\n",
    "            predicted['boxes'].append(label_dict['boxes'][i].tolist())\n",
    "            predicted['labels'].append(label_dict['labels'][i].tolist())\n",
    "            predicted['scores'].append(s[i].tolist())\n",
    "        else:\n",
    "            #scores should be sorted so we just stop checking after reaching the first elem<0.8\n",
    "            break\n",
    "\n",
    "#plot image with predicted bounding boxes\n",
    "import cv2\n",
    "color=(255,0,0)\n",
    "thickness=2\n",
    "r,g,b = cv2.split(np_img)\n",
    "img_bgr = cv2.merge([r,g,b])\n",
    "for i in range(len(predicted['boxes'])):\n",
    "    xmin,ymin,xmax,ymax = predicted['boxes'][i]\n",
    "    start_point = (int(xmin),int(ymin))\n",
    "    end_point = (int(xmax),int(ymax))\n",
    "    img_bgr = cv2.rectangle(img_bgr, start_point, end_point, color, thickness)\n",
    "\n",
    "plt.imshow(img_bgr);"
   ]
  }
 ],
 "metadata": {
  "kernelspec": {
   "display_name": "Python 3 (clean)",
   "language": "python",
   "name": "python3_clean"
  },
  "language_info": {
   "codemirror_mode": {
    "name": "ipython",
    "version": 3
   },
   "file_extension": ".py",
   "mimetype": "text/x-python",
   "name": "python",
   "nbconvert_exporter": "python",
   "pygments_lexer": "ipython3",
   "version": "3.9.5"
  }
 },
 "nbformat": 4,
 "nbformat_minor": 5
}
